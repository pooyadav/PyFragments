{
 "cells": [
  {
   "cell_type": "code",
   "execution_count": 1,
   "metadata": {
    "collapsed": false,
    "deletable": true,
    "editable": true,
    "scrolled": true
   },
   "outputs": [
    {
     "name": "stdout",
     "output_type": "stream",
     "text": [
      "Extracting MNIST_data/train-images-idx3-ubyte.gz\n",
      "Extracting MNIST_data/train-labels-idx1-ubyte.gz\n",
      "Extracting MNIST_data/t10k-images-idx3-ubyte.gz\n",
      "Extracting MNIST_data/t10k-labels-idx1-ubyte.gz\n"
     ]
    }
   ],
   "source": [
    "import os, gzip, binascii, struct, numpy\n",
    "from six.moves.urllib.request import urlretrieve\n",
    "import matplotlib.pyplot as plt\n",
    "import tensorflow as tf\n",
    "from tensorflow.examples.tutorials.mnist import input_data\n",
    "\n",
    "\n",
    "def fully_conntected_activation(input,size_in,size_out):\n",
    "    W = tf.Variable(tf.truncated_normal([size_in, size_out],stddev=0.1))\n",
    "    b = tf.Variable(tf.truncated_normal([size_out], stddev=0.1))\n",
    "    activation = tf.nn.relu(tf.matmul(input,W)+b)\n",
    "    \n",
    "    return activation\n",
    "\n",
    "def fully_conntected(input,size_in,size_out):\n",
    "    W = tf.Variable(tf.truncated_normal([size_in, size_out],stddev=0.1))\n",
    "    b = tf.Variable(tf.truncated_normal([size_out], stddev=0.1))\n",
    "    activation = tf.matmul(input,W)+b\n",
    "    \n",
    "    return activation\n",
    "\n",
    "mnist = input_data.read_data_sets(\"MNIST_data/\", one_hot=True)\n",
    "\n",
    "IMAGE_SIZE = 28\n",
    "HIDDEN_LAYER = 300\n",
    "NUM_LABELS = 10"
   ]
  },
  {
   "cell_type": "code",
   "execution_count": 2,
   "metadata": {
    "collapsed": false,
    "deletable": true,
    "editable": true
   },
   "outputs": [],
   "source": [
    "def mnist_run():\n",
    "\n",
    "    x = tf.placeholder(tf.float32, [None, IMAGE_SIZE * IMAGE_SIZE])\n",
    "    y_true = tf.placeholder(tf.float32,[None, NUM_LABELS])\n",
    "\n",
    "    hidden = fully_conntected_activation(x,IMAGE_SIZE * IMAGE_SIZE, HIDDEN_LAYER)\n",
    "    output = fully_conntected(hidden,HIDDEN_LAYER,NUM_LABELS)\n",
    "\n",
    "    cross_entropy = tf.reduce_mean(tf.nn.softmax_cross_entropy_with_logits(labels=y_true, logits=output))\n",
    "    train_step = tf.train.GradientDescentOptimizer(0.5).minimize(cross_entropy)\n",
    "\n",
    "    # test the model\n",
    "    correct_prediction = tf.equal(tf.argmax(output,1), tf.argmax(y_true,1))\n",
    "    accuracy = tf.reduce_mean(tf.cast(correct_prediction, tf.float32))\n",
    "\n",
    "    sess = tf.InteractiveSession()\n",
    "    tf.global_variables_initializer().run()\n",
    "\n",
    "    # Training\n",
    "    for i in range(1000):\n",
    "        batch_xs, batch_ys = mnist.train.next_batch(100)\n",
    "        l,_,a = sess.run([cross_entropy, train_step, accuracy], \n",
    "                         feed_dict={x: batch_xs, y_true: batch_ys})\n",
    "        #if i%100 == 0 or (i < 100 and i % 10 == 0):\n",
    "        #    print(str(i)+': loss: '+str(l)+' accuracy: '+str(a))\n",
    "    # print  l, a\n",
    "    return l, a"
   ]
  },
  {
   "cell_type": "code",
   "execution_count": 4,
   "metadata": {
    "collapsed": true,
    "deletable": true,
    "editable": true
   },
   "outputs": [],
   "source": [
    "%load_ext line_profiler\n",
    "%load_ext memory_profiler"
   ]
  },
  {
   "cell_type": "code",
   "execution_count": 35,
   "metadata": {
    "collapsed": false,
    "deletable": true,
    "editable": true,
    "scrolled": true
   },
   "outputs": [
    {
     "name": "stdout",
     "output_type": "stream",
     "text": [
      "0.0777463 0.976562\n",
      "CPU times: user 28.4 s, sys: 737 ms, total: 29.2 s\n",
      "Wall time: 6.83 s\n"
     ]
    },
    {
     "data": {
      "text/plain": [
       "(0.077746257, 0.9765625)"
      ]
     },
     "execution_count": 35,
     "metadata": {},
     "output_type": "execute_result"
    }
   ],
   "source": [
    "#%timeit -n 5 mnist_run() \n",
    "%time mnist_run() "
   ]
  },
  {
   "cell_type": "code",
   "execution_count": 6,
   "metadata": {
    "collapsed": false,
    "deletable": true,
    "editable": true
   },
   "outputs": [
    {
     "name": "stdout",
     "output_type": "stream",
     "text": [
      "peak memory: 828.62 MiB, increment: 172.55 MiB\n"
     ]
    }
   ],
   "source": [
    "%memit -r 2 mnist_run()"
   ]
  },
  {
   "cell_type": "code",
   "execution_count": 7,
   "metadata": {
    "collapsed": false,
    "deletable": true,
    "editable": true
   },
   "outputs": [],
   "source": [
    "def test(N=10):\n",
    "    losses = []; accus = []\n",
    "    for i in range(N):\n",
    "        l, a = mnist_run()\n",
    "        losses.append(l); accus.append(a)\n",
    "    print \"Loss: %.3f (%.3f); Accuracy: %.3f (%.3f)\" % \\\n",
    "        (numpy.mean(losses), numpy.std(losses), numpy.mean(accus), numpy.std(accus))\n",
    "        \n",
    "test()"
   ]
  },
  {
   "cell_type": "code",
   "execution_count": null,
   "metadata": {
    "collapsed": true
   },
   "outputs": [],
   "source": []
  }
 ],
 "metadata": {
  "kernelspec": {
   "display_name": "Python 2",
   "language": "python",
   "name": "python2"
  },
  "language_info": {
   "codemirror_mode": {
    "name": "ipython",
    "version": 2
   },
   "file_extension": ".py",
   "mimetype": "text/x-python",
   "name": "python",
   "nbconvert_exporter": "python",
   "pygments_lexer": "ipython2",
   "version": "2.7.12"
  }
 },
 "nbformat": 4,
 "nbformat_minor": 2
}
